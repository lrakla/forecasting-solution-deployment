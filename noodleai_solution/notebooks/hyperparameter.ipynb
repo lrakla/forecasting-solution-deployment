{
 "cells": [
  {
   "cell_type": "code",
   "execution_count": 4,
   "metadata": {},
   "outputs": [],
   "source": [
    "import sys\n",
    "sys.path.append('../') # make modules visible to each other\n",
    "import pandas as pd\n",
    "from sklearn.model_selection import GridSearchCV\n",
    "import seaborn as sns\n",
    "import matplotlib.pyplot as plt\n",
    "from xgboost import XGBRegressor\n",
    "import numpy as np\n",
    "import yaml\n",
    "from src.data.split_dataset import splitDataset\n",
    "import warnings\n",
    "warnings.filterwarnings(\"ignore\")"
   ]
  },
  {
   "cell_type": "code",
   "execution_count": 13,
   "metadata": {},
   "outputs": [
    {
     "name": "stdout",
     "output_type": "stream",
     "text": [
      "Best Hyperparameters: {'colsample_bytree': 0.8, 'learning_rate': 0.2, 'max_depth': 7, 'n_estimators': 150, 'subsample': 1.0}\n",
      "WMAPE: 0.1191860408360553\n"
     ]
    }
   ],
   "source": [
    "with open(\"../src/CONFIG.yaml\", 'r') as yaml_file:\n",
    "    config = yaml.safe_load(yaml_file)\n",
    "    filepaths = config['filepaths']\n",
    "input_filepath = filepaths['input_filepath']\n",
    "processed_filepath = filepaths['processed_filepath']\n",
    "encoded_filepath = filepaths['encoded_filepath']\n",
    "\n",
    "data = pd.read_csv('../' + encoded_filepath)\n",
    "data['Date'] = pd.to_datetime(data['Date'])\n",
    "split_dataset = splitDataset(data,scale = True)\n",
    "X_train, y_train, X_test, y_test, actuals, train_date, test_date = split_dataset.run()\n",
    "\n",
    "xgb_model = XGBRegressor()\n",
    "\n",
    "param_grid = {\n",
    "    'learning_rate': [0.1, 0.2, 0.7],\n",
    "    'n_estimators': [100, 110, 150],\n",
    "    'max_depth': [5,7,9],\n",
    "    'subsample': [0.8, 0.9, 1.0],\n",
    "    'colsample_bytree': [0.8, 0.9, 1.0]\n",
    "}\n",
    "grid_search = GridSearchCV(estimator=xgb_model, param_grid=param_grid, scoring='neg_mean_squared_error', cv=5, n_jobs=-1)\n",
    "\n",
    "# Fit the grid search to the data\n",
    "grid_search.fit(X_train, y_train)\n",
    "\n",
    "# Print the best hyperparameters found\n",
    "print(\"Best Hyperparameters:\", grid_search.best_params_)\n",
    "\n",
    "# Get the best model\n",
    "best_model = grid_search.best_estimator_\n",
    "\n",
    "# Make predictions on the test set\n",
    "y_pred = np.exp(best_model.predict(X_test))\n",
    "\n",
    "# Evaluate the model\n",
    "def wmape(y_test, y_pred):\n",
    "    return np.sum(np.abs(y_test - y_pred)) / np.sum(y_test)\n",
    "\n",
    "print(\"WMAPE:\", wmape(actuals, y_pred))"
   ]
  },
  {
   "cell_type": "code",
   "execution_count": 15,
   "metadata": {},
   "outputs": [
    {
     "data": {
      "image/png": "[encoded data removed]",
      "text/plain": [
       "<Figure size 720x432 with 1 Axes>"
      ]
     },
     "metadata": {
      "needs_background": "light"
     },
     "output_type": "display_data"
    }
   ],
   "source": [
    "importance_df = pd.DataFrame({\n",
    "    'feature': X_test.columns,\n",
    "    'importance':best_model.feature_importances_\n",
    "}).sort_values('importance', ascending=False)\n",
    "plt.figure(figsize=(10,6))\n",
    "plt.title('Feature Importance')\n",
    "sns.barplot(data=importance_df.head(10), x='importance', y='feature');"
   ]
  }
 ],
 "metadata": {
  "kernelspec": {
   "display_name": "Python 3 (ipykernel)",
   "language": "python",
   "name": "python3"
  },
  "language_info": {
   "codemirror_mode": {
    "name": "ipython",
    "version": 3
   },
   "file_extension": ".py",
   "mimetype": "text/x-python",
   "name": "python",
   "nbconvert_exporter": "python",
   "pygments_lexer": "ipython3",
   "version": "3.8.8"
  }
 },
 "nbformat": 4,
 "nbformat_minor": 2
}
